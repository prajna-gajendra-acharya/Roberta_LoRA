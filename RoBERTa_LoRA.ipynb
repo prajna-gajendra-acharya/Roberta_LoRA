{
 "cells": [
  {
   "cell_type": "code",
   "execution_count": null,
   "id": "5eb64145-11e0-4e75-aecb-fa098f9b324d",
   "metadata": {
    "colab": {
     "base_uri": "https://localhost:8080/"
    },
    "id": "348ceed6-b684-46c3-8a32-9bb640c9a9d7",
    "outputId": "2d4900ef-1023-4d6c-b363-a16503d4dda5"
   },
   "outputs": [],
   "source": [
    "!pip install transformers datasets evaluate accelerate peft trl bitsandbytes\n",
    "!pip install nvidia-ml-py3"
   ]
  },
  {
   "cell_type": "code",
   "execution_count": null,
   "id": "cca64f38-d8d2-4313-8295-fbbd43c2a263",
   "metadata": {
    "id": "cca64f38-d8d2-4313-8295-fbbd43c2a263"
   },
   "outputs": [],
   "source": [
    "import os\n",
    "import pandas as pd\n",
    "import torch\n",
    "from transformers import RobertaModel, RobertaTokenizer, TrainingArguments, Trainer, DataCollatorWithPadding, RobertaForSequenceClassification\n",
    "from peft import LoraConfig, get_peft_model, PeftModel\n",
    "from datasets import load_dataset, Dataset, ClassLabel\n",
    "import pickle"
   ]
  },
  {
   "cell_type": "markdown",
   "id": "59d6e377",
   "metadata": {
    "id": "59d6e377"
   },
   "source": [
    "## Load Tokenizer and Preprocess Data"
   ]
  },
  {
   "cell_type": "code",
   "execution_count": null,
   "id": "21f42747-f551-40a5-a95f-7affb1eba4a3",
   "metadata": {
    "colab": {
     "base_uri": "https://localhost:8080/",
     "height": 493,
     "referenced_widgets": [
      "8d7734cc303543128f9dab4f54dff1a8",
      "3840a17a21254090bf9157c48e9e1df2",
      "a227ba36c4a044daab79f5439230f924",
      "451e0c8ff7164c42b072a66b8a10cb9e",
      "fcd82df223944ec8ac95c4eb0a7696b4",
      "ca325e69bd6b44c496ebecd9186b2129",
      "08f85303cd8842df82e353c7a5e0edf0",
      "bc112790a4bd46dcba8e7167bb68431c",
      "3b5c9d0309ca42fabd58a675f4f76af3",
      "ccea0a1ef73f4a35a651b1de15a5093e",
      "c18b7cd5084e47ebbb31e132d8ba36d5",
      "6f67f26db5954dd8abd483c08ae410fa",
      "e62e423baa54484cbbedb761d243f212",
      "cb2eec1395ad437c9d37b6f02df7a7f0",
      "812d72c4cbea42a4beefe433f6e2a681",
      "21964f7e3c02428db215c8e6d691efd9",
      "70e0d323781047d1a9a635b2c384a468",
      "cefe20f4db074b8a91987f360529cca1",
      "487cc42d793c4d518d933afcae2c6b58",
      "2ba904507f814193bcecc6eebb7a6ca2",
      "ab705390b5b94a259e7dfd4722398b67",
      "4f97044c111e44449b3401fe8aa61319",
      "a2fef6a3a67444848d1be5685da2dd1f",
      "cf54f2415502482987598f32e707c7f9",
      "e259ae55253741c0851bc7d1002711c6",
      "e1d259f12f974840b2f3c587a2c2f86b",
      "b119cf488a174a398333ef1383cc9b48",
      "d8e0693b50d34f5b9b488fc96bb4b10f",
      "d523c0c44e334a99a81beb091fb08124",
      "3a273f0fcd104a1ebd7f8465ec7a5b9f",
      "d3cff7cc017b4b46baa2cbd5121a74c6",
      "4aa6383de3ab4a85bfccb6d037c798cb",
      "60d549b86e194ef5ae75141a62238b2b",
      "19c7ed43e62f43468f1165fa7998d5dc",
      "2ca67f68bd134847b0c13311814165bb",
      "9f5e47743570439ead7e34b8529f90f4",
      "2df97933626242f7b5d866131551626e",
      "80b9e300d0c2475aa570f14b4751dc45",
      "ee9e475bcff8494d83db817786920ed8",
      "d0b49b62885e49ee86bf18e0b6ea2269",
      "be7d8cec8ec94568aa13e87d469933a2",
      "59d8644142f04602be872692fcaba87c",
      "b9ef6b66fd4e4977ae1b0127d2fdcda4",
      "5ca8dec5a56043009e5a276dc708169a",
      "b5705a371887483ea70f8b0cee8843e3",
      "78ed0d7554734951aa435c97b91b4361",
      "329e29693a0e40a791dd5b3b9e5348fa",
      "89137f2068454735a15f14a8debfb658",
      "1746114f29be42aca81bfb06a0322702",
      "1b57acc0b9ff459ab29bd85587dcaa61",
      "24be94d50f5c4034b3417e05d54c36b6",
      "a3c633038dff48ad94cac173cb5ecea5",
      "2b9f61b77ef84ad09d9cd182169a830d",
      "97a832e9591f40b587e2464628d15906",
      "1165543b812d42edb00f8b9fd0fe2d0a",
      "eefb39f859994f07911a17e9fd7d38ba",
      "f6348deeebe54b1a8b0225c85c510730",
      "e317cb1fe523483fa186f3e6c9a359ca",
      "ac0580c2737d4fed8c94141cffc4dd68",
      "1d7a3480f40b47daab1ca5626eee4e69",
      "a733d4043fea42c788fc7109183438e7",
      "beeca39fd2a8495c9e5e52baacfb1e95",
      "611c15c76a334f008655982655ee8f7f",
      "5056f42ed0d94f269f1b9eb95d3c2c4f",
      "bc49363e952a4e159f674d566b81ea1e",
      "0515098cd98440dfade3ce6febcc7ddd",
      "6a1da38d1c5b46dca2293078b855c841",
      "c13081d786514d38bdd0d223d2e66602",
      "3c5a4b78291844e5b9ba142d328fa35f",
      "13836df67ef64dce9637a34888ac23e3",
      "380412c940124378bca6242790b1677f",
      "8919752d240f4890a29994e5e03ac87c",
      "7dadd4237f4449ffbdff5e0f520d5cbd",
      "7d8068d14c894fbd9d8aae1d1d2ebcee",
      "3d0636db8e1f46faaac23a8d4e34b4e6",
      "11fabfdb59104fc9aea254b1e91e9fb3",
      "e37886607916494183771b4a8970bafb",
      "d6f3064acb994a6cbff8cf6deb84c874",
      "57969a503559421e8965de700aebf5e0",
      "2715670f96344935a0717a37165a4f89",
      "815373ab6e3a40e1907406c44553aee6",
      "2cbf96a5f81d46b2ae9e89efb46a7d7a",
      "51af5c4feca541e1b4dc99c96ee58baa",
      "5030916397f8410c96fc469ea32c6bfe",
      "fd23bce57f564b6e946a1a12f44525bd",
      "0f7124db4fef4d97b2eb50098d1f8966",
      "cf690d349ca24502b6825afc174facea",
      "bae7104e5a0e4d0296f2a18ab4868c69",
      "05ea1b77021b4f9b9cdca26c14f8d990",
      "4a33d868cd9a47ce8084269fb4991871",
      "b134648426bb44bcb1cbe64c7e72ca94",
      "465c8e0ff58e423ebc54d3ce9a641737",
      "14b9f711f9f74a43a8808d646851f1a3",
      "3ad55e4577d94718ab5be3cc94b5d96f",
      "2fd993849bb54a34a25f2d1227a0ef48",
      "1786bc04babc41a1a2b2128076e7c594",
      "2a151c1b7508482987571a0a3d00855c",
      "23ffabd23b5240d6bb8b57a805d0411f",
      "d4a9ddc05e5a45179b35690dee08387f",
      "32a55ff8eed74f7c9fa02dc990fe0d38",
      "060824dfc7b74906bbba96b0843141bd",
      "c8b48ffa4e104ddb8082dd1d37001dc2",
      "ac1c1b13f8f3447fbbc5009f7eb05254",
      "0ebadfe7818d4d27a7c521157493686d",
      "2c11621fcfce4d6f9ec1a7b8622b6d1e",
      "c4b39046056c4d18b1ea17d37cb5159a",
      "37e462f427c841308d03518ae94907a4",
      "ad2cc1a213494e06b100af5ad5ace55f",
      "c33b83eb83814072a39341f608537ea0",
      "926fc465cf54463fb1d23dbca0a87ea3",
      "b7d8e77cc8f5485e8865169468706129",
      "c2d140cdf49c4f4fbc0451e8f6dabf3f",
      "1d7f1da8d5934c4ebcdd9ce635cc0071",
      "d9fe03b1f6b94effb9463ab48ec3875f",
      "cde168c7fbe84797a852b0e7d42bb8c7",
      "e5560da5ef08443ab3bfc8515458ff56",
      "a0632fdc5db74b0fa03ce5b715c996a0",
      "22a21016c9534954a0cf6861c73a242a",
      "abafa680a9a3481cbc97ce70930ab607",
      "f9df217157df4f69ba00a5016be3f81e",
      "0365c22afbc24ea397797ced526b6aa0"
     ]
    },
    "id": "21f42747-f551-40a5-a95f-7affb1eba4a3",
    "outputId": "d7e4d86f-ad59-4aa2-ce68-64b839a8c9a6"
   },
   "outputs": [
    {
     "name": "stderr",
     "output_type": "stream",
     "text": [
      "/usr/local/lib/python3.11/dist-packages/huggingface_hub/utils/_auth.py:94: UserWarning: \n",
      "The secret `HF_TOKEN` does not exist in your Colab secrets.\n",
      "To authenticate with the Hugging Face Hub, create a token in your settings tab (https://huggingface.co/settings/tokens), set it as secret in your Google Colab and restart your session.\n",
      "You will be able to reuse this secret in all of your notebooks.\n",
      "Please note that authentication is recommended but still optional to access public models or datasets.\n",
      "  warnings.warn(\n"
     ]
    },
    {
     "data": {
      "application/vnd.jupyter.widget-view+json": {
       "model_id": "8d7734cc303543128f9dab4f54dff1a8",
       "version_major": 2,
       "version_minor": 0
      },
      "text/plain": [
       "README.md:   0%|          | 0.00/8.07k [00:00<?, ?B/s]"
      ]
     },
     "metadata": {},
     "output_type": "display_data"
    },
    {
     "data": {
      "application/vnd.jupyter.widget-view+json": {
       "model_id": "6f67f26db5954dd8abd483c08ae410fa",
       "version_major": 2,
       "version_minor": 0
      },
      "text/plain": [
       "train-00000-of-00001.parquet:   0%|          | 0.00/18.6M [00:00<?, ?B/s]"
      ]
     },
     "metadata": {},
     "output_type": "display_data"
    },
    {
     "data": {
      "application/vnd.jupyter.widget-view+json": {
       "model_id": "a2fef6a3a67444848d1be5685da2dd1f",
       "version_major": 2,
       "version_minor": 0
      },
      "text/plain": [
       "test-00000-of-00001.parquet:   0%|          | 0.00/1.23M [00:00<?, ?B/s]"
      ]
     },
     "metadata": {},
     "output_type": "display_data"
    },
    {
     "data": {
      "application/vnd.jupyter.widget-view+json": {
       "model_id": "19c7ed43e62f43468f1165fa7998d5dc",
       "version_major": 2,
       "version_minor": 0
      },
      "text/plain": [
       "Generating train split:   0%|          | 0/120000 [00:00<?, ? examples/s]"
      ]
     },
     "metadata": {},
     "output_type": "display_data"
    },
    {
     "data": {
      "application/vnd.jupyter.widget-view+json": {
       "model_id": "b5705a371887483ea70f8b0cee8843e3",
       "version_major": 2,
       "version_minor": 0
      },
      "text/plain": [
       "Generating test split:   0%|          | 0/7600 [00:00<?, ? examples/s]"
      ]
     },
     "metadata": {},
     "output_type": "display_data"
    },
    {
     "data": {
      "application/vnd.jupyter.widget-view+json": {
       "model_id": "eefb39f859994f07911a17e9fd7d38ba",
       "version_major": 2,
       "version_minor": 0
      },
      "text/plain": [
       "tokenizer_config.json:   0%|          | 0.00/25.0 [00:00<?, ?B/s]"
      ]
     },
     "metadata": {},
     "output_type": "display_data"
    },
    {
     "data": {
      "application/vnd.jupyter.widget-view+json": {
       "model_id": "6a1da38d1c5b46dca2293078b855c841",
       "version_major": 2,
       "version_minor": 0
      },
      "text/plain": [
       "vocab.json:   0%|          | 0.00/899k [00:00<?, ?B/s]"
      ]
     },
     "metadata": {},
     "output_type": "display_data"
    },
    {
     "data": {
      "application/vnd.jupyter.widget-view+json": {
       "model_id": "d6f3064acb994a6cbff8cf6deb84c874",
       "version_major": 2,
       "version_minor": 0
      },
      "text/plain": [
       "merges.txt:   0%|          | 0.00/456k [00:00<?, ?B/s]"
      ]
     },
     "metadata": {},
     "output_type": "display_data"
    },
    {
     "data": {
      "application/vnd.jupyter.widget-view+json": {
       "model_id": "05ea1b77021b4f9b9cdca26c14f8d990",
       "version_major": 2,
       "version_minor": 0
      },
      "text/plain": [
       "tokenizer.json:   0%|          | 0.00/1.36M [00:00<?, ?B/s]"
      ]
     },
     "metadata": {},
     "output_type": "display_data"
    },
    {
     "data": {
      "application/vnd.jupyter.widget-view+json": {
       "model_id": "32a55ff8eed74f7c9fa02dc990fe0d38",
       "version_major": 2,
       "version_minor": 0
      },
      "text/plain": [
       "config.json:   0%|          | 0.00/481 [00:00<?, ?B/s]"
      ]
     },
     "metadata": {},
     "output_type": "display_data"
    },
    {
     "data": {
      "application/vnd.jupyter.widget-view+json": {
       "model_id": "b7d8e77cc8f5485e8865169468706129",
       "version_major": 2,
       "version_minor": 0
      },
      "text/plain": [
       "Map:   0%|          | 0/120000 [00:00<?, ? examples/s]"
      ]
     },
     "metadata": {},
     "output_type": "display_data"
    }
   ],
   "source": [
    "base_model = 'roberta-base'\n",
    "\n",
    "dataset = load_dataset('ag_news', split='train')\n",
    "tokenizer = RobertaTokenizer.from_pretrained(base_model)\n",
    "\n",
    "def preprocess(examples):\n",
    "    tokenized = tokenizer(examples['text'], truncation=True, padding=True)\n",
    "    return tokenized\n",
    "\n",
    "tokenized_dataset = dataset.map(preprocess, batched=True,  remove_columns=[\"text\"])\n",
    "tokenized_dataset = tokenized_dataset.rename_column(\"label\", \"labels\")"
   ]
  },
  {
   "cell_type": "code",
   "execution_count": null,
   "id": "9e07f641-bec0-43a6-8c26-510d7642916a",
   "metadata": {
    "colab": {
     "base_uri": "https://localhost:8080/"
    },
    "id": "9e07f641-bec0-43a6-8c26-510d7642916a",
    "outputId": "6da6aeb5-1018-44a4-c96e-44aba505e705"
   },
   "outputs": [
    {
     "name": "stdout",
     "output_type": "stream",
     "text": [
      "number of labels: 4\n",
      "the labels: ['World', 'Sports', 'Business', 'Sci/Tech']\n"
     ]
    }
   ],
   "source": [
    "# Extract the number of classess and their names\n",
    "num_labels = dataset.features['label'].num_classes\n",
    "class_names = dataset.features[\"label\"].names\n",
    "print(f\"number of labels: {num_labels}\")\n",
    "print(f\"the labels: {class_names}\")\n",
    "\n",
    "# Create an id2label mapping\n",
    "# We will need this for our classifier.\n",
    "id2label = {i: label for i, label in enumerate(class_names)}\n",
    "\n",
    "data_collator = DataCollatorWithPadding(tokenizer=tokenizer, return_tensors=\"pt\")\n"
   ]
  },
  {
   "cell_type": "markdown",
   "id": "c9e24afd",
   "metadata": {
    "id": "c9e24afd"
   },
   "source": [
    "## Load Pre-trained Model\n",
    "Set up config for pretrained model and download it from hugging face"
   ]
  },
  {
   "cell_type": "code",
   "execution_count": null,
   "id": "262a8416-a59c-4ea1-95d9-0b1f81d6094c",
   "metadata": {
    "colab": {
     "base_uri": "https://localhost:8080/",
     "height": 902,
     "referenced_widgets": [
      "8a6977065f624057814f06fb52f986db",
      "4f6a189e99dc48039d346ef9950a7143",
      "3a847049669c4e4eaa778a22a67535a5",
      "d3bf3c057d28425bbd1685ec1e419564",
      "4bacf53a75784f5ca8a96c8a1e4f519d",
      "526db9841cba4d3780be4e9dda6c9254",
      "155f653ed26840f79f6da3a0edef0bcb",
      "b2b4e1db563c4d94a1c01fb07a922c11",
      "0f641dd49e364cef87fd00bb9276e6d2",
      "4c24037b346845418007d98e55ddb7a0",
      "a1e7a032d4284e9caf19d5f8c5d722ac"
     ]
    },
    "id": "262a8416-a59c-4ea1-95d9-0b1f81d6094c",
    "outputId": "bb0ab462-dfbe-41be-f5cc-df012122a603"
   },
   "outputs": [
    {
     "name": "stderr",
     "output_type": "stream",
     "text": [
      "Xet Storage is enabled for this repo, but the 'hf_xet' package is not installed. Falling back to regular HTTP download. For better performance, install the package with: `pip install huggingface_hub[hf_xet]` or `pip install hf_xet`\n",
      "WARNING:huggingface_hub.file_download:Xet Storage is enabled for this repo, but the 'hf_xet' package is not installed. Falling back to regular HTTP download. For better performance, install the package with: `pip install huggingface_hub[hf_xet]` or `pip install hf_xet`\n"
     ]
    },
    {
     "data": {
      "application/vnd.jupyter.widget-view+json": {
       "model_id": "8a6977065f624057814f06fb52f986db",
       "version_major": 2,
       "version_minor": 0
      },
      "text/plain": [
       "model.safetensors:   0%|          | 0.00/499M [00:00<?, ?B/s]"
      ]
     },
     "metadata": {},
     "output_type": "display_data"
    },
    {
     "name": "stderr",
     "output_type": "stream",
     "text": [
      "Some weights of RobertaForSequenceClassification were not initialized from the model checkpoint at roberta-base and are newly initialized: ['classifier.dense.bias', 'classifier.dense.weight', 'classifier.out_proj.bias', 'classifier.out_proj.weight']\n",
      "You should probably TRAIN this model on a down-stream task to be able to use it for predictions and inference.\n"
     ]
    },
    {
     "data": {
      "text/plain": [
       "RobertaForSequenceClassification(\n",
       "  (roberta): RobertaModel(\n",
       "    (embeddings): RobertaEmbeddings(\n",
       "      (word_embeddings): Embedding(50265, 768, padding_idx=1)\n",
       "      (position_embeddings): Embedding(514, 768, padding_idx=1)\n",
       "      (token_type_embeddings): Embedding(1, 768)\n",
       "      (LayerNorm): LayerNorm((768,), eps=1e-05, elementwise_affine=True)\n",
       "      (dropout): Dropout(p=0.1, inplace=False)\n",
       "    )\n",
       "    (encoder): RobertaEncoder(\n",
       "      (layer): ModuleList(\n",
       "        (0-11): 12 x RobertaLayer(\n",
       "          (attention): RobertaAttention(\n",
       "            (self): RobertaSdpaSelfAttention(\n",
       "              (query): Linear(in_features=768, out_features=768, bias=True)\n",
       "              (key): Linear(in_features=768, out_features=768, bias=True)\n",
       "              (value): Linear(in_features=768, out_features=768, bias=True)\n",
       "              (dropout): Dropout(p=0.1, inplace=False)\n",
       "            )\n",
       "            (output): RobertaSelfOutput(\n",
       "              (dense): Linear(in_features=768, out_features=768, bias=True)\n",
       "              (LayerNorm): LayerNorm((768,), eps=1e-05, elementwise_affine=True)\n",
       "              (dropout): Dropout(p=0.1, inplace=False)\n",
       "            )\n",
       "          )\n",
       "          (intermediate): RobertaIntermediate(\n",
       "            (dense): Linear(in_features=768, out_features=3072, bias=True)\n",
       "            (intermediate_act_fn): GELUActivation()\n",
       "          )\n",
       "          (output): RobertaOutput(\n",
       "            (dense): Linear(in_features=3072, out_features=768, bias=True)\n",
       "            (LayerNorm): LayerNorm((768,), eps=1e-05, elementwise_affine=True)\n",
       "            (dropout): Dropout(p=0.1, inplace=False)\n",
       "          )\n",
       "        )\n",
       "      )\n",
       "    )\n",
       "  )\n",
       "  (classifier): RobertaClassificationHead(\n",
       "    (dense): Linear(in_features=768, out_features=768, bias=True)\n",
       "    (dropout): Dropout(p=0.1, inplace=False)\n",
       "    (out_proj): Linear(in_features=768, out_features=4, bias=True)\n",
       "  )\n",
       ")"
      ]
     },
     "execution_count": 5,
     "metadata": {},
     "output_type": "execute_result"
    }
   ],
   "source": [
    "model = RobertaForSequenceClassification.from_pretrained(\n",
    "    base_model,\n",
    "    id2label=id2label)\n",
    "model"
   ]
  },
  {
   "cell_type": "code",
   "execution_count": null,
   "id": "e7413430-be57-482b-856e-36bd4ba799df",
   "metadata": {
    "id": "e7413430-be57-482b-856e-36bd4ba799df"
   },
   "outputs": [],
   "source": [
    "# Split the original training set\n",
    "split_datasets = tokenized_dataset.train_test_split(test_size=640, seed=42)\n",
    "train_dataset = split_datasets['train']\n",
    "eval_dataset = split_datasets['test']"
   ]
  },
  {
   "cell_type": "markdown",
   "id": "652452e3",
   "metadata": {
    "id": "652452e3"
   },
   "source": [
    "## Setup LoRA Config\n",
    "Setup PEFT config and get peft model for finetuning"
   ]
  },
  {
   "cell_type": "code",
   "execution_count": null,
   "id": "bd0ca0ea-86b8-47f7-8cbf-83da25685876",
   "metadata": {
    "id": "bd0ca0ea-86b8-47f7-8cbf-83da25685876"
   },
   "outputs": [],
   "source": [
    "# PEFT Config\n",
    "peft_config = LoraConfig(\n",
    "    r=6,\n",
    "    lora_alpha=24,\n",
    "    lora_dropout=0.05,\n",
    "    bias = 'none',\n",
    "    target_modules = ['query','value'],\n",
    "    task_type=\"SEQ_CLS\",\n",
    ")"
   ]
  },
  {
   "cell_type": "markdown",
   "id": "cc7GxxmaeXBL",
   "metadata": {
    "id": "cc7GxxmaeXBL"
   },
   "source": [
    "We used a LoRA configuration with a low-rank dimension of `r=6`, which offers sufficient capacity to learn task-specific patterns while keeping the trainable parameter count low. The scaling factor `lora_alpha=24` was selected as a multiple of r to maintain stable training. A dropout rate of `0.05` was applied to regularize the LoRA layers and reduce overfitting.\n",
    "\n",
    "To further minimize parameters, we set `bias='none'`, avoiding updates to bias terms. We targeted only the query and value projections in the attention layers, which are the most influential components for learning in transformer architectures.\n",
    "\n"
   ]
  },
  {
   "cell_type": "code",
   "execution_count": null,
   "id": "6ec2739d-76b6-4fde-91c2-0fc49e1884b0",
   "metadata": {
    "colab": {
     "base_uri": "https://localhost:8080/"
    },
    "id": "6ec2739d-76b6-4fde-91c2-0fc49e1884b0",
    "outputId": "8c0078f5-5655-4f42-e94b-66d863fa89ca"
   },
   "outputs": [
    {
     "data": {
      "text/plain": [
       "PeftModelForSequenceClassification(\n",
       "  (base_model): LoraModel(\n",
       "    (model): RobertaForSequenceClassification(\n",
       "      (roberta): RobertaModel(\n",
       "        (embeddings): RobertaEmbeddings(\n",
       "          (word_embeddings): Embedding(50265, 768, padding_idx=1)\n",
       "          (position_embeddings): Embedding(514, 768, padding_idx=1)\n",
       "          (token_type_embeddings): Embedding(1, 768)\n",
       "          (LayerNorm): LayerNorm((768,), eps=1e-05, elementwise_affine=True)\n",
       "          (dropout): Dropout(p=0.1, inplace=False)\n",
       "        )\n",
       "        (encoder): RobertaEncoder(\n",
       "          (layer): ModuleList(\n",
       "            (0-11): 12 x RobertaLayer(\n",
       "              (attention): RobertaAttention(\n",
       "                (self): RobertaSdpaSelfAttention(\n",
       "                  (query): lora.Linear(\n",
       "                    (base_layer): Linear(in_features=768, out_features=768, bias=True)\n",
       "                    (lora_dropout): ModuleDict(\n",
       "                      (default): Dropout(p=0.05, inplace=False)\n",
       "                    )\n",
       "                    (lora_A): ModuleDict(\n",
       "                      (default): Linear(in_features=768, out_features=6, bias=False)\n",
       "                    )\n",
       "                    (lora_B): ModuleDict(\n",
       "                      (default): Linear(in_features=6, out_features=768, bias=False)\n",
       "                    )\n",
       "                    (lora_embedding_A): ParameterDict()\n",
       "                    (lora_embedding_B): ParameterDict()\n",
       "                    (lora_magnitude_vector): ModuleDict()\n",
       "                  )\n",
       "                  (key): Linear(in_features=768, out_features=768, bias=True)\n",
       "                  (value): lora.Linear(\n",
       "                    (base_layer): Linear(in_features=768, out_features=768, bias=True)\n",
       "                    (lora_dropout): ModuleDict(\n",
       "                      (default): Dropout(p=0.05, inplace=False)\n",
       "                    )\n",
       "                    (lora_A): ModuleDict(\n",
       "                      (default): Linear(in_features=768, out_features=6, bias=False)\n",
       "                    )\n",
       "                    (lora_B): ModuleDict(\n",
       "                      (default): Linear(in_features=6, out_features=768, bias=False)\n",
       "                    )\n",
       "                    (lora_embedding_A): ParameterDict()\n",
       "                    (lora_embedding_B): ParameterDict()\n",
       "                    (lora_magnitude_vector): ModuleDict()\n",
       "                  )\n",
       "                  (dropout): Dropout(p=0.1, inplace=False)\n",
       "                )\n",
       "                (output): RobertaSelfOutput(\n",
       "                  (dense): Linear(in_features=768, out_features=768, bias=True)\n",
       "                  (LayerNorm): LayerNorm((768,), eps=1e-05, elementwise_affine=True)\n",
       "                  (dropout): Dropout(p=0.1, inplace=False)\n",
       "                )\n",
       "              )\n",
       "              (intermediate): RobertaIntermediate(\n",
       "                (dense): Linear(in_features=768, out_features=3072, bias=True)\n",
       "                (intermediate_act_fn): GELUActivation()\n",
       "              )\n",
       "              (output): RobertaOutput(\n",
       "                (dense): Linear(in_features=3072, out_features=768, bias=True)\n",
       "                (LayerNorm): LayerNorm((768,), eps=1e-05, elementwise_affine=True)\n",
       "                (dropout): Dropout(p=0.1, inplace=False)\n",
       "              )\n",
       "            )\n",
       "          )\n",
       "        )\n",
       "      )\n",
       "      (classifier): ModulesToSaveWrapper(\n",
       "        (original_module): RobertaClassificationHead(\n",
       "          (dense): Linear(in_features=768, out_features=768, bias=True)\n",
       "          (dropout): Dropout(p=0.1, inplace=False)\n",
       "          (out_proj): Linear(in_features=768, out_features=4, bias=True)\n",
       "        )\n",
       "        (modules_to_save): ModuleDict(\n",
       "          (default): RobertaClassificationHead(\n",
       "            (dense): Linear(in_features=768, out_features=768, bias=True)\n",
       "            (dropout): Dropout(p=0.1, inplace=False)\n",
       "            (out_proj): Linear(in_features=768, out_features=4, bias=True)\n",
       "          )\n",
       "        )\n",
       "      )\n",
       "    )\n",
       "  )\n",
       ")"
      ]
     },
     "execution_count": 8,
     "metadata": {},
     "output_type": "execute_result"
    }
   ],
   "source": [
    "peft_model = get_peft_model(model, peft_config)\n",
    "peft_model"
   ]
  },
  {
   "cell_type": "code",
   "execution_count": null,
   "id": "da45f85c-b016-4c49-8808-6eafa7cb5d1b",
   "metadata": {
    "colab": {
     "base_uri": "https://localhost:8080/"
    },
    "id": "da45f85c-b016-4c49-8808-6eafa7cb5d1b",
    "outputId": "b9dbf89a-9371-4d8d-a801-7c1bc31202ed"
   },
   "outputs": [
    {
     "name": "stdout",
     "output_type": "stream",
     "text": [
      "PEFT Model\n",
      "trainable params: 814,852 || all params: 125,463,560 || trainable%: 0.6495\n"
     ]
    }
   ],
   "source": [
    "print('PEFT Model')\n",
    "peft_model.print_trainable_parameters()"
   ]
  },
  {
   "cell_type": "markdown",
   "id": "VABX_jFZOKn8",
   "metadata": {
    "id": "VABX_jFZOKn8"
   },
   "source": [
    "Total number of trainable parameters : **814,852**\n",
    "\n",
    "---\n",
    "\n"
   ]
  },
  {
   "cell_type": "markdown",
   "id": "12284b58",
   "metadata": {
    "id": "12284b58"
   },
   "source": [
    "## Training Setup"
   ]
  },
  {
   "cell_type": "code",
   "execution_count": null,
   "id": "0ee64c43-fe38-479a-b3c5-7d939a3db4c1",
   "metadata": {
    "id": "0ee64c43-fe38-479a-b3c5-7d939a3db4c1"
   },
   "outputs": [],
   "source": [
    "# To track evaluation accuracy during training\n",
    "from sklearn.metrics import accuracy_score, precision_score, recall_score, f1_score\n",
    "\n",
    "def compute_metrics(pred):\n",
    "    labels = pred.label_ids\n",
    "    preds = pred.predictions.argmax(-1)\n",
    "    accuracy = accuracy_score(labels, preds)\n",
    "    precision = precision_score(labels, preds, average='macro')\n",
    "    recall = recall_score(labels, preds, average='macro')\n",
    "    f1 = f1_score(labels, preds, average='macro')\n",
    "\n",
    "    return {\n",
    "        'accuracy': accuracy,\n",
    "        'precision': precision,\n",
    "        'recall': recall,\n",
    "        'f1': f1\n",
    "    }"
   ]
  },
  {
   "cell_type": "code",
   "execution_count": null,
   "id": "5uRaC-UtwDeo",
   "metadata": {
    "colab": {
     "base_uri": "https://localhost:8080/"
    },
    "id": "5uRaC-UtwDeo",
    "outputId": "14c34bcd-cf72-4099-a746-a56a9a18e5f4"
   },
   "outputs": [
    {
     "name": "stdout",
     "output_type": "stream",
     "text": [
      "Mounted at /content/drive\n"
     ]
    }
   ],
   "source": [
    "from google.colab import drive\n",
    "drive.mount('/content/drive')"
   ]
  },
  {
   "cell_type": "code",
   "execution_count": null,
   "id": "768b4917-65de-4e55-ae7f-698e287535d4",
   "metadata": {
    "id": "768b4917-65de-4e55-ae7f-698e287535d4"
   },
   "outputs": [],
   "source": [
    "# Setup Training args\n",
    "output_dir = \"/content/drive/MyDrive/DL_Project_2/results/Final_Results\"\n",
    "\n",
    "training_args = TrainingArguments(\n",
    "    output_dir=output_dir,\n",
    "    report_to=None,\n",
    "    eval_strategy='epoch',\n",
    "    save_strategy='epoch',\n",
    "    logging_steps=100,\n",
    "    learning_rate=5e-5,\n",
    "    per_device_train_batch_size=16,\n",
    "    per_device_eval_batch_size=64,\n",
    "    num_train_epochs=6,\n",
    "    weight_decay=0.01,\n",
    "    lr_scheduler_type=\"cosine\",\n",
    "    warmup_ratio=0.1,\n",
    "    optim=\"adamw_torch\",\n",
    "    fp16=torch.cuda.is_available(),\n",
    "    load_best_model_at_end=True,\n",
    "    metric_for_best_model=\"accuracy\",\n",
    "    greater_is_better=True\n",
    ")\n",
    "\n",
    "def get_trainer(model):\n",
    "      return  Trainer(\n",
    "          model=model,\n",
    "          args=training_args,\n",
    "          compute_metrics=compute_metrics,\n",
    "          train_dataset=train_dataset,\n",
    "          eval_dataset=eval_dataset,\n",
    "          data_collator=data_collator,\n",
    "      )"
   ]
  },
  {
   "cell_type": "markdown",
   "id": "o51ESdo5fdsk",
   "metadata": {
    "id": "o51ESdo5fdsk"
   },
   "source": [
    "The model was trained for 6 epochs with a batch size of `16` for training and `64` for evaluation. A learning rate of `5e-5` was used in conjunction with the AdamW optimizer adamw_torch, which is well-suited for training transformer models.\n",
    "\n",
    "To improve generalization and training stability, we used a cosine learning rate scheduler `lr_scheduler_type=\"cosine\"` with a warmup ratio of `10%`. Weight decay `weight_decay=0.01` was applied to reduce overfitting. The training was performed with mixed-precision `fp16=True` to speed up computation and reduce memory usage when running on GPUs.\n",
    "\n",
    "Evaluation and model checkpointing were performed at the end of each epoch `eval_strategy='epoch'`, `save_strategy='epoch'`. We enabled load_best_model_at_end=True so that the final model corresponds to the checkpoint with the highest validation accuracy. We also set `metric_for_best_model='accuracy'` and `greater_is_better=True` to ensure the model is selected based on its best accuracy score. Logging occurred every 100 steps to monitor training progress."
   ]
  },
  {
   "cell_type": "code",
   "execution_count": null,
   "id": "98d9d57d-b57f-4acc-80fb-fc5443e75515",
   "metadata": {
    "colab": {
     "base_uri": "https://localhost:8080/",
     "height": 301
    },
    "id": "98d9d57d-b57f-4acc-80fb-fc5443e75515",
    "outputId": "587a6c4a-bc99-4314-cd3a-9f4ea1669528"
   },
   "outputs": [
    {
     "name": "stderr",
     "output_type": "stream",
     "text": [
      "No label_names provided for model class `PeftModelForSequenceClassification`. Since `PeftModel` hides base models input arguments, if label_names is not given, label_names can't be set automatically within `Trainer`. Note that empty label_names list will be used instead.\n"
     ]
    },
    {
     "data": {
      "text/html": [
       "\n",
       "    <div>\n",
       "      \n",
       "      <progress value='44760' max='44760' style='width:300px; height:20px; vertical-align: middle;'></progress>\n",
       "      [44760/44760 48:09, Epoch 6/6]\n",
       "    </div>\n",
       "    <table border=\"1\" class=\"dataframe\">\n",
       "  <thead>\n",
       " <tr style=\"text-align: left;\">\n",
       "      <th>Epoch</th>\n",
       "      <th>Training Loss</th>\n",
       "      <th>Validation Loss</th>\n",
       "      <th>Accuracy</th>\n",
       "      <th>Precision</th>\n",
       "      <th>Recall</th>\n",
       "      <th>F1</th>\n",
       "    </tr>\n",
       "  </thead>\n",
       "  <tbody>\n",
       "    <tr>\n",
       "      <td>1</td>\n",
       "      <td>0.244600</td>\n",
       "      <td>0.265311</td>\n",
       "      <td>0.918750</td>\n",
       "      <td>0.919981</td>\n",
       "      <td>0.921045</td>\n",
       "      <td>0.919514</td>\n",
       "    </tr>\n",
       "    <tr>\n",
       "      <td>2</td>\n",
       "      <td>0.200200</td>\n",
       "      <td>0.224881</td>\n",
       "      <td>0.928125</td>\n",
       "      <td>0.933261</td>\n",
       "      <td>0.927033</td>\n",
       "      <td>0.929490</td>\n",
       "    </tr>\n",
       "    <tr>\n",
       "      <td>3</td>\n",
       "      <td>0.221800</td>\n",
       "      <td>0.218428</td>\n",
       "      <td>0.932813</td>\n",
       "      <td>0.934615</td>\n",
       "      <td>0.933806</td>\n",
       "      <td>0.934151</td>\n",
       "    </tr>\n",
       "    <tr>\n",
       "      <td>4</td>\n",
       "      <td>0.219600</td>\n",
       "      <td>0.213195</td>\n",
       "      <td>0.928125</td>\n",
       "      <td>0.932169</td>\n",
       "      <td>0.927532</td>\n",
       "      <td>0.929402</td>\n",
       "    </tr>\n",
       "    <tr>\n",
       "      <td>5</td>\n",
       "      <td>0.190900</td>\n",
       "      <td>0.211476</td>\n",
       "      <td>0.931250</td>\n",
       "      <td>0.936207</td>\n",
       "      <td>0.930340</td>\n",
       "      <td>0.932655</td>\n",
       "    </tr>\n",
       "    <tr>\n",
       "      <td>6</td>\n",
       "      <td>0.190500</td>\n",
       "      <td>0.214872</td>\n",
       "      <td>0.931250</td>\n",
       "      <td>0.935690</td>\n",
       "      <td>0.930615</td>\n",
       "      <td>0.932674</td>\n",
       "    </tr>\n",
       "  </tbody>\n",
       "</table><p>"
      ],
      "text/plain": [
       "<IPython.core.display.HTML object>"
      ]
     },
     "metadata": {},
     "output_type": "display_data"
    }
   ],
   "source": [
    "peft_lora_finetuning_trainer = get_trainer(peft_model)\n",
    "\n",
    "result = peft_lora_finetuning_trainer.train()"
   ]
  },
  {
   "cell_type": "markdown",
   "id": "juqqen8rhhFK",
   "metadata": {
    "id": "juqqen8rhhFK"
   },
   "source": [
    "**Best Model Metrics (Epoch 3)**\n",
    "\n",
    "* Training Loss: 0.2218\n",
    "\n",
    "* Validation Loss: 0.2184\n",
    "\n",
    "* Accuracy: 93.28%\n",
    "\n",
    "* Precision: 93.46%\n",
    "\n",
    "* Recall: 93.38%\n",
    "\n",
    "* F1 Score: 93.42%\n",
    "\n",
    "\n",
    "\n"
   ]
  },
  {
   "cell_type": "markdown",
   "id": "5183be7e-514f-4e64-a6f4-314a827e6be5",
   "metadata": {
    "id": "5183be7e-514f-4e64-a6f4-314a827e6be5"
   },
   "source": [
    "## Evaluate Finetuned Model\n"
   ]
  },
  {
   "cell_type": "markdown",
   "id": "68a3e276-bf8c-4403-8a48-5ef19f2beccf",
   "metadata": {
    "id": "68a3e276-bf8c-4403-8a48-5ef19f2beccf"
   },
   "source": [
    "### Run Inference on eval_dataset"
   ]
  },
  {
   "cell_type": "code",
   "execution_count": null,
   "id": "ebbc20a2-a1c0-4cb7-b842-f52e4de61ed5",
   "metadata": {
    "id": "ebbc20a2-a1c0-4cb7-b842-f52e4de61ed5"
   },
   "outputs": [],
   "source": [
    "from torch.utils.data import DataLoader\n",
    "import evaluate\n",
    "from tqdm import tqdm\n",
    "\n",
    "def evaluate_model(inference_model, dataset, labelled=True, batch_size=8, data_collator=None):\n",
    "    \"\"\"\n",
    "    Evaluate a PEFT model on a dataset.\n",
    "\n",
    "    Args:\n",
    "        inference_model: The model to evaluate.\n",
    "        dataset: The dataset (Hugging Face Dataset) to run inference on.\n",
    "        labelled (bool): If True, the dataset includes labels and metrics will be computed.\n",
    "                         If False, only predictions will be returned.\n",
    "        batch_size (int): Batch size for inference.\n",
    "        data_collator: Function to collate batches. If None, the default collate_fn is used.\n",
    "\n",
    "    Returns:\n",
    "        If labelled is True, returns a tuple (metrics, predictions)\n",
    "        If labelled is False, returns the predictions.\n",
    "    \"\"\"\n",
    "    # Create the DataLoader\n",
    "    eval_dataloader = DataLoader(dataset, batch_size=batch_size, collate_fn=data_collator)\n",
    "    device = torch.device(\"cuda\" if torch.cuda.is_available() else \"cpu\")\n",
    "\n",
    "    inference_model.to(device)\n",
    "    inference_model.eval()\n",
    "\n",
    "    all_predictions = []\n",
    "    if labelled:\n",
    "        metric = evaluate.load('accuracy')\n",
    "\n",
    "    # Loop over the DataLoader\n",
    "    for batch in tqdm(eval_dataloader):\n",
    "        # Move each tensor in the batch to the device\n",
    "        batch = {k: v.to(device) for k, v in batch.items()}\n",
    "        with torch.no_grad():\n",
    "            outputs = inference_model(**batch)\n",
    "        predictions = outputs.logits.argmax(dim=-1)\n",
    "        all_predictions.append(predictions.cpu())\n",
    "\n",
    "        if labelled:\n",
    "            # Expecting that labels are provided under the \"labels\" key.\n",
    "            references = batch[\"labels\"]\n",
    "            metric.add_batch(\n",
    "                predictions=predictions.cpu().numpy(),\n",
    "                references=references.cpu().numpy()\n",
    "            )\n",
    "\n",
    "    # Concatenate predictions from all batches\n",
    "    all_predictions = torch.cat(all_predictions, dim=0)\n",
    "\n",
    "    if labelled:\n",
    "        eval_metric = metric.compute()\n",
    "        print(\"Evaluation Metric:\", eval_metric)\n",
    "        return eval_metric, all_predictions\n",
    "    else:\n",
    "        return all_predictions"
   ]
  },
  {
   "cell_type": "code",
   "execution_count": null,
   "id": "809635a6-a2c7-4d09-8d60-ababd1815003",
   "metadata": {
    "colab": {
     "base_uri": "https://localhost:8080/",
     "height": 84,
     "referenced_widgets": [
      "ca30d253018a47fb8d7f48ade8178d9e",
      "d4b1c27cd65b4e02996a32599e3a5918",
      "5017f25d22be4e688704dcd0500d6bf0",
      "d7030a9a8d704a088bef126f84b358ca",
      "c1e29aad0bc9459da8c3300eaec7e1f3",
      "8d7a7f059d1a4e45b0ce99002af521c1",
      "a004779fd5b44f1a9692a6cf945383b8",
      "b629083311084837a74d02f482573670",
      "20e6d023eeb5456facc63fe13377a20e",
      "96c8a2abb42743eaabc804826f3c2b17",
      "8e58ffd9f2fb49d8a7b0a09eb3939fb5"
     ]
    },
    "id": "809635a6-a2c7-4d09-8d60-ababd1815003",
    "outputId": "67d8b7c6-2584-47f0-a9fb-d53036fc5fd3"
   },
   "outputs": [
    {
     "data": {
      "application/vnd.jupyter.widget-view+json": {
       "model_id": "ca30d253018a47fb8d7f48ade8178d9e",
       "version_major": 2,
       "version_minor": 0
      },
      "text/plain": [
       "Downloading builder script:   0%|          | 0.00/4.20k [00:00<?, ?B/s]"
      ]
     },
     "metadata": {},
     "output_type": "display_data"
    },
    {
     "name": "stderr",
     "output_type": "stream",
     "text": [
      "100%|██████████| 80/80 [00:02<00:00, 38.45it/s]"
     ]
    },
    {
     "name": "stdout",
     "output_type": "stream",
     "text": [
      "Evaluation Metric: {'accuracy': 0.9328125}\n"
     ]
    },
    {
     "name": "stderr",
     "output_type": "stream",
     "text": [
      "\n"
     ]
    }
   ],
   "source": [
    "# Check evaluation accuracy\n",
    "_, _ = evaluate_model(peft_model, eval_dataset, True, 8, data_collator)"
   ]
  },
  {
   "cell_type": "markdown",
   "id": "75f39087-f2bb-49d3-9fe1-0d812fb30203",
   "metadata": {
    "id": "75f39087-f2bb-49d3-9fe1-0d812fb30203"
   },
   "source": [
    "### Run Inference on unlabelled dataset"
   ]
  },
  {
   "cell_type": "code",
   "execution_count": null,
   "id": "2af62541-2c33-4f16-bb1c-cc969c715cd7",
   "metadata": {
    "colab": {
     "base_uri": "https://localhost:8080/",
     "height": 118,
     "referenced_widgets": [
      "1e56ea0461a047c89962797b64ab0568",
      "aa5e179adf7d4a8ba1d3fcf3e422a599",
      "e33a53d4c4f146b4a7ae19d123da502b",
      "c515bf375c8141f1bc2a16386f8c0b6b",
      "dc4ce6d5626d48a7bda2a17a4f782413",
      "476570b2f9ec4a8eb175ded5a9e9ea7f",
      "11becb7a9fc4407f97493d28a7f12a23",
      "4bcc040966904e30929d8b027c37458c",
      "91fcc424653145f2a258ad4c472885c3",
      "8b78cb5b28de46a48d1ca81f0454fb2b",
      "56a0090fd1774474826aded47d9ffb27"
     ]
    },
    "id": "2af62541-2c33-4f16-bb1c-cc969c715cd7",
    "outputId": "2aa31594-4891-4632-8e21-efac44e5045b"
   },
   "outputs": [
    {
     "data": {
      "application/vnd.jupyter.widget-view+json": {
       "model_id": "1e56ea0461a047c89962797b64ab0568",
       "version_major": 2,
       "version_minor": 0
      },
      "text/plain": [
       "Map:   0%|          | 0/8000 [00:00<?, ? examples/s]"
      ]
     },
     "metadata": {},
     "output_type": "display_data"
    },
    {
     "data": {
      "text/plain": [
       "Dataset({\n",
       "    features: ['text'],\n",
       "    num_rows: 8000\n",
       "})"
      ]
     },
     "execution_count": 25,
     "metadata": {},
     "output_type": "execute_result"
    }
   ],
   "source": [
    "#Load your unlabelled data\n",
    "unlabelled_dataset = pd.read_pickle(\"/content/drive/MyDrive/DL_Project_2/test_unlabelled.pkl\")\n",
    "test_dataset = unlabelled_dataset.map(preprocess, batched=True, remove_columns=[\"text\"])\n",
    "unlabelled_dataset"
   ]
  },
  {
   "cell_type": "code",
   "execution_count": null,
   "id": "e60991d3-38b1-4657-8854-408ce66f6b84",
   "metadata": {
    "colab": {
     "base_uri": "https://localhost:8080/"
    },
    "id": "e60991d3-38b1-4657-8854-408ce66f6b84",
    "outputId": "0b7b1ed1-b493-4f76-dce8-524e84c44d47"
   },
   "outputs": [
    {
     "name": "stderr",
     "output_type": "stream",
     "text": [
      "100%|██████████| 1000/1000 [00:22<00:00, 43.93it/s]"
     ]
    },
    {
     "name": "stdout",
     "output_type": "stream",
     "text": [
      "Inference complete. Predictions saved to inference_output.csv\n"
     ]
    },
    {
     "name": "stderr",
     "output_type": "stream",
     "text": [
      "\n"
     ]
    }
   ],
   "source": [
    "# Run inference and save predictions\n",
    "preds = evaluate_model(peft_model, test_dataset, False, 8, data_collator)\n",
    "df_output = pd.DataFrame({\n",
    "    'ID': range(len(preds)),\n",
    "    'Label': preds.numpy()  # or preds.tolist()\n",
    "})\n",
    "df_output.to_csv(os.path.join(output_dir,\"inference_output_final.csv\"), index=False)\n",
    "print(\"Inference complete. Predictions saved to inference_output.csv\")"
   ]
  },
  {
   "cell_type": "code",
   "execution_count": 1,
   "id": "-BxK1e7zNovT",
   "metadata": {
    "colab": {
     "base_uri": "https://localhost:8080/",
     "height": 1000
    },
    "id": "-BxK1e7zNovT",
    "outputId": "9eb3a51e-5627-4bc0-883f-e604a5097686"
   },
   "outputs": [
    {
     "data": {
      "image/png": "[encoded data removed]",
      "text/plain": [
       "<Figure size 600x400 with 1 Axes>"
      ]
     },
     "metadata": {},
     "output_type": "display_data"
    },
    {
     "data": {
      "image/png": "[encoded data removed]",
      "text/plain": [
       "<Figure size 600x400 with 1 Axes>"
      ]
     },
     "metadata": {},
     "output_type": "display_data"
    },
    {
     "data": {
      "image/png": "[encoded data removed]",
      "text/plain": [
       "<Figure size 600x400 with 1 Axes>"
      ]
     },
     "metadata": {},
     "output_type": "display_data"
    },
    {
     "data": {
      "image/png": "[encoded data removed]",
      "text/plain": [
       "<Figure size 600x400 with 1 Axes>"
      ]
     },
     "metadata": {},
     "output_type": "display_data"
    },
    {
     "data": {
      "image/png": "[encoded data removed]",
      "text/plain": [
       "<Figure size 600x400 with 1 Axes>"
      ]
     },
     "metadata": {},
     "output_type": "display_data"
    },
    {
     "data": {
      "image/png": "[encoded data removed]",
      "text/plain": [
       "<Figure size 600x400 with 1 Axes>"
      ]
     },
     "metadata": {},
     "output_type": "display_data"
    }
   ],
   "source": [
    "import matplotlib.pyplot as plt\n",
    "\n",
    "epochs = [1, 2, 3, 4, 5, 6]\n",
    "training_loss = [0.244600, 0.200200, 0.221800, 0.219600, 0.190900, 0.190500]\n",
    "validation_loss = [0.265311, 0.224881, 0.218428, 0.213195, 0.211476, 0.214872]\n",
    "accuracy = [0.918750, 0.928125, 0.932813, 0.928125, 0.931250, 0.931250]\n",
    "precision = [0.919981, 0.933261, 0.934615, 0.932169, 0.936207, 0.935690]\n",
    "recall = [0.921045, 0.927033, 0.933806, 0.927532, 0.930340, 0.930615]\n",
    "f1_score = [0.919514, 0.929490, 0.934151, 0.929402, 0.932655, 0.932674]\n",
    "\n",
    "metrics = {\n",
    "    \"Training Loss\": training_loss,\n",
    "    \"Validation Loss\": validation_loss,\n",
    "    \"Accuracy\": accuracy,\n",
    "    \"Precision\": precision,\n",
    "    \"Recall\": recall,\n",
    "    \"F1 Score\": f1_score\n",
    "}\n",
    "\n",
    "for metric_name, values in metrics.items():\n",
    "    plt.figure(figsize=(6, 4))\n",
    "    plt.plot(epochs, values, marker='o', linestyle='-', color='tab:blue', label=metric_name)\n",
    "    plt.title(f\"{metric_name} Over Epochs\")\n",
    "    plt.xlabel(\"Epoch\")\n",
    "    plt.ylabel(\"Score / Loss\")\n",
    "    plt.grid(True)\n",
    "    plt.legend()\n",
    "    plt.tight_layout()\n",
    "    plt.show()"
   ]
  }
 ],
 "metadata": {
  "accelerator": "GPU",
  "colab": {
   "gpuType": "A100",
   "provenance": []
  },
  "kernelspec": {
   "display_name": "Python 3 (ipykernel)",
   "language": "python",
   "name": "python3"
  },
  "language_info": {
   "codemirror_mode": {
    "name": "ipython",
    "version": 3
   },
   "file_extension": ".py",
   "mimetype": "text/x-python",
   "name": "python",
   "nbconvert_exporter": "python",
   "pygments_lexer": "ipython3",
   "version": "3.12.5"
  },
  "widgets": {
   "application/vnd.jupyter.widget-state+json": {
    "state": {},
    "version_major": 2,
    "version_minor": 0
   }
  }
 },
 "nbformat": 4,
 "nbformat_minor": 5
}
